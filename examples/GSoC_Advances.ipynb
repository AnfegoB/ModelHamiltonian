{
 "cells": [
  {
   "attachments": {},
   "cell_type": "markdown",
   "metadata": {},
   "source": [
    "# GSoC Advances: Huckel Parameters\n",
    "## Andrés Gómez\n",
    "###### Issue: Huckel Parameters \n",
    "\n",
    "In this document is explained the additions implemented to the moha program. \n",
    "The problems addressed are the first 2 on the Issue Huckel Parameters on the GitHub repository: \n",
    "\n",
    "\"\"\"\n",
    "\n",
    "We need to be able to\n",
    "\n",
    "- [x] parse atom types\n",
    "- [x] assign appropriate α and β values based on Rauk's atom types (attached, page 94).\n",
    "- [ ] compute appropriate α and β values using distance/overlap.\n",
    "\n",
    "\"\"\"\n",
    "\n",
    "In this manner the principal commits on this fork are the following:\n",
    "\n",
    "- atom_types list construction (correction)\n",
    "- Added coordination functionality to get_atom_type function in utils.py and compatibility with API.\n",
    "- Added dictionaries including alpha_x and  kxy values from Rauk's table\n",
    "- Implemented atom_dictionary and bond_dictionary construction from the atom_types list from Rauk's table.\n",
    "- Implemented Huckel parameters function in the API and use in the HamPPP class. \n",
    "- Added the functionality to allow the user to insert atom_dictionary and bond_dictionary. \n",
    "\n",
    "\n"
   ]
  },
  {
   "attachments": {},
   "cell_type": "markdown",
   "metadata": {},
   "source": [
    "First to check that the program works for the usual cases, here I present the run for the same example given in the \"Demonstration.ipynb\" for Polyene"
   ]
  },
  {
   "cell_type": "code",
   "execution_count": 11,
   "metadata": {},
   "outputs": [
    {
     "name": "stdout",
     "output_type": "stream",
     "text": [
      "h0=\n",
      " 39.962 \n",
      "\n",
      "h1=\n",
      " [[-2.481 -2.5    0.     0.     0.    -2.5  ]\n",
      " [-2.5   -2.481 -2.5    0.     0.     0.   ]\n",
      " [ 0.    -2.5   -2.481 -2.5    0.     0.   ]\n",
      " [ 0.     0.    -2.5   -2.481 -2.5    0.   ]\n",
      " [ 0.     0.     0.    -2.5   -2.481 -2.5  ]\n",
      " [-2.5    0.     0.     0.    -2.5   -2.481]] \n",
      "\n",
      "h2=\n",
      "   (0, 0)\t5.42\n",
      "  (1, 1)\t0.3350642927794263\n",
      "  (2, 2)\t0.1986395532084328\n",
      "  (3, 3)\t0.1728757336055116\n",
      "  (4, 4)\t0.19863955320843274\n",
      "  (5, 5)\t0.3350642927794263\n",
      "  (7, 7)\t5.42\n",
      "  (8, 8)\t0.3350642927794263\n",
      "  (9, 9)\t0.1986395532084328\n",
      "  (10, 10)\t0.1728757336055116\n",
      "  (11, 11)\t0.19863955320843274\n",
      "  (14, 14)\t5.42\n",
      "  (15, 15)\t0.3350642927794263\n",
      "  (16, 16)\t0.1986395532084328\n",
      "  (17, 17)\t0.1728757336055116\n",
      "  (21, 21)\t5.42\n",
      "  (22, 22)\t0.3350642927794263\n",
      "  (23, 23)\t0.1986395532084328\n",
      "  (28, 28)\t5.42\n",
      "  (29, 29)\t0.3350642927794263\n",
      "  (35, 35)\t5.42 \n",
      "\n"
     ]
    }
   ],
   "source": [
    "import numpy as np\n",
    "\n",
    "### Function for printing the hamiltonian\n",
    "def print_hamiltonian(h0, h1, h2):\n",
    "    np.set_printoptions(precision=3)\n",
    "    print('h0=\\n',\"%0.3f\" % h0,'\\n')        \n",
    "    print('h1=\\n',h1,'\\n')\n",
    "    print('h2=\\n',h2,'\\n')\n",
    "\n",
    "### Gamma value generator for polyene\n",
    "def generate_gamma(norb, b, gamma0): \n",
    "    ang_to_bohr = 1.889726\n",
    "    har_to_ev = 27.211396\n",
    "    b_ieV = b*ang_to_bohr/har_to_ev\n",
    "\n",
    "    gamma = np.zeros((norb,norb))\n",
    "    for u in range(norb):\n",
    "        for v in range(norb):\n",
    "            duv = b*(np.sin(abs(u-v)*np.pi/norb)/np.sin(np.pi/norb))\n",
    "            gamma[(u,v)] = 1/(1/gamma0 + duv)\n",
    "\n",
    "    return gamma \n",
    "    \n",
    "### Building integral arrays for benzene\n",
    "norb = 6\n",
    "b = 1.4\n",
    "gamma0 = 10.84\n",
    "beta = -2.5\n",
    "\n",
    "gamma = generate_gamma(norb, b, gamma0)\n",
    "gamma0 = gamma[0,0]\n",
    "\n",
    "import sys  \n",
    "sys.path.insert(0, '../')\n",
    "\n",
    "from moha import HamPPP\n",
    "\n",
    "polyene = HamPPP([(f\"C{i}\", f\"C{i + 1}\", 1, None) for i in range(1, norb)] + [(f\"C{norb}\", f\"C{1}\", 1, None)], #Input modification to not include distance information\n",
    "                      alpha=0, beta=beta, gamma=gamma, charges=np.ones(6),\n",
    "                      u_onsite=np.array([0.5*gamma0 for i in range(norb + 1)]))\n",
    "\n",
    "h0 = polyene.generate_zero_body_integral()\n",
    "h1 = polyene.generate_one_body_integral(dense=True, basis='spatial basis')\n",
    "h2 = polyene.generate_two_body_integral(dense=False, basis='spatial basis')\n",
    "\n",
    "print_hamiltonian(h0, h1, h2)"
   ]
  },
  {
   "attachments": {},
   "cell_type": "markdown",
   "metadata": {},
   "source": [
    "All looking good so far. \n",
    "\n"
   ]
  },
  {
   "attachments": {},
   "cell_type": "markdown",
   "metadata": {},
   "source": [
    "The new functionalities are that now the one body term generation (Huckel Model) can take into account different alpha and beta values depending on the atoms in the system. In this manner, from the connectivity system definition the atom_types list is constructed with the atomic symbols present in the system. If the atom_dictionary or bond_dictionary parameter is given, this are taken for the Huckel model construction, if not, this dictionaries are constructed from the atom_types list usin Rauks's parameters.\n",
    "\n",
    "List of Rauk's parameters: \n",
    "\n",
    "<img src=\"img/Raukstable.png\" class=\"center\" style=\"width: 1000px;\"/>\n",
    "\n",
    "\n",
    "And stored (extracted from assign_Huckel_parameters method):\n",
    "\n",
    "\n",
    "\n",
    "\n",
    "\n",
    "\n"
   ]
  },
  {
   "cell_type": "code",
   "execution_count": 2,
   "metadata": {},
   "outputs": [],
   "source": [
    "hx_dictionary = { \n",
    "            \"C\":  0.0, \n",
    "            \"B\":  0.45, \n",
    "            \"N2\":-0.51,\n",
    "            \"N3\":-1.37,\n",
    "            \"O1\":-0.97,\n",
    "            \"O2\":-2.09,\n",
    "            \"F\": -2.71,\n",
    "            \"Si\":  0.0,\n",
    "            \"P2\": -0.19,\n",
    "            \"P3\": -0.75,\n",
    "            \"S1\": -0.46,\n",
    "            \"S2\": -1.11,\n",
    "            \"Cl\": -1.48\n",
    "            }\n",
    "        \n",
    "        #kxy elements\n",
    "kxy_matrix_1 = np.array([\n",
    "        [-1.0  , 0.    ,  0.   ,  0.   ,  0.   ,  0.   ,  0.   ,  0.   ,  0.   ,  0.   , 0.    ,  0.    , 0.   ],\n",
    "        [-0.73 , -0.87 ,  0.   ,  0.   ,  0.   ,  0.   ,  0.   ,  0.   ,  0.   ,  0.   , 0.    ,  0.    , 0.   ],\n",
    "        [-1.02 , -0.66 , -1.09 ,  0.   ,  0.   ,  0.   ,  0.   ,  0.   ,  0.   ,  0.   , 0.    ,  0.    , 0.   ],\n",
    "        [-0.89 , -0.53 , -0.99 , -0.98 ,  0.   ,  0.   ,  0.   ,  0.   ,  0.   ,  0.   , 0.    ,  0.    , 0.   ],\n",
    "        [-1.06 , -0.60 , -1.14 , -1.13 , -1.26 ,  0.   ,  0.   ,  0.   ,  0.   ,  0.   , 0.    ,  0.    , 0.   ],\n",
    "        [-0.66 , -0.35 , -0.80 , -0.89 , -1.02 , -0.95 ,  0.   ,  0.   ,  0.   ,  0.   , 0.    ,  0.    , 0.   ],\n",
    "        [-0.52 , -0.26 , -0.65 , -0.77 , -0.92 , -0.94 , -1.04 ,  0.   ,  0.   ,  0.   , 0.    ,  0.    , 0.   ],\n",
    "        [-0.75 , -0.57 , -0.72 , -0.43 , -0.65 , -0.24 , -0.17 , -0.64 ,  0.   ,  0.   , 0.    ,  0.    , 0.   ],\n",
    "        [-0.77 , -0.53 , -0.78 , -0.55 , -0.75 , -0.31 , -0.21 , -0.62 , -0.63 ,  0.   , 0.    ,  0.    , 0.   ],\n",
    "        [-0.76 , -0.54 , -0.81 , -0.64 , -0.82 , -0.39 , -0.22 , -0.52 , -0.58 , -0.63 , 0.    ,  0.    , 0.   ],\n",
    "        [-0.81 , -0.51 , -0.83 , -0.68 , -0.84 , -0.43 , -0.28 , -0.61 , -0.65 , -0.65 , -0.68 ,  0.    , 0.   ],\n",
    "        [-0.69 , -0.44 , -0.78 , -0.73 , -0.85 , -0.54 , -0.32 , -0.40 , -0.48 , -0.60 , -0.58 , -0.63  , 0.   ],\n",
    "        [-0.62 , -0.41 , -0.77 , -0.80 , -0.88 , -0.70 , -0.51 , -0.34 , -0.35 , -0.55 , -0.52 , -0.59  ,-0.68 ],\n",
    "        ])\n",
    "kxy_matrix = np.minimum(kxy_matrix_1, kxy_matrix_1.T) #Symmetric"
   ]
  },
  {
   "attachments": {},
   "cell_type": "markdown",
   "metadata": {},
   "source": [
    "Additionally, as there are cases in which the coordination varies for a given atom, the connectivity input in this case can be given by adding a _coordination term:"
   ]
  },
  {
   "cell_type": "code",
   "execution_count": 6,
   "metadata": {},
   "outputs": [],
   "source": [
    "#[('atomsymbolsite_coordinationnumber','atomsymbolsite_coordinationnumber',bond, distance),...]\n",
    "\n",
    "#Same old format works\n",
    "connectivity= [('C1', 'C2', 1, None), ('C2', 'C3', 1, None), ('C3', 'C1', 1, None)]\n",
    "\n",
    "#Including coordination (Must be in Rauks table)\n",
    "connectivity= [('N1_2', 'O2_1', 1, None), ('O2_1', 'P3_2', 1, None), ('P3_2', 'N1_2', 1, None)]"
   ]
  },
  {
   "cell_type": "code",
   "execution_count": 1,
   "metadata": {},
   "outputs": [],
   "source": [
    "import sys \n",
    "import numpy as np\n",
    "sys.path.insert(0, '../')\n",
    "def print_hamiltonian(h1):\n",
    "    np.set_printoptions(precision=3)      \n",
    "    print('h1=\\n',h1,'\\n')\n",
    "from moha import HamHuck\n",
    "\n"
   ]
  },
  {
   "attachments": {},
   "cell_type": "markdown",
   "metadata": {},
   "source": [
    "Then, presenting some examples (imaginary molecules): \n",
    "\n",
    "- C_Cl_F_Si_C molecule (No coordination, parameters not given)\n"
   ]
  },
  {
   "cell_type": "code",
   "execution_count": 3,
   "metadata": {},
   "outputs": [
    {
     "name": "stdout",
     "output_type": "stream",
     "text": [
      "h1=\n",
      " [[-0.414 -0.033  0.    -0.04 ]\n",
      " [-0.033 -0.493 -0.027  0.   ]\n",
      " [ 0.    -0.027 -0.558 -0.009]\n",
      " [-0.04   0.    -0.009 -0.414]] \n",
      "\n"
     ]
    }
   ],
   "source": [
    "C_Cl_F_Si = HamHuck([('C1', 'Cl2', 1, None), ('Cl2', 'F3', 1, None),\n",
    "                    ('F3', 'Si4', 1, None), ('Si4', 'C1', 1, None)])\n",
    "h1 = C_Cl_F_Si.generate_one_body_integral(dense=True, basis='spatial basis')\n",
    "print_hamiltonian(h1)\n"
   ]
  },
  {
   "attachments": {},
   "cell_type": "markdown",
   "metadata": {},
   "source": [
    "- N2_O1_P2 molecule (coordination and parameters not given )"
   ]
  },
  {
   "cell_type": "code",
   "execution_count": 4,
   "metadata": {},
   "outputs": [
    {
     "name": "stdout",
     "output_type": "stream",
     "text": [
      "h1=\n",
      " [[-0.441 -0.061 -0.042]\n",
      " [-0.061 -0.466 -0.04 ]\n",
      " [-0.042 -0.04  -0.424]] \n",
      "\n"
     ]
    }
   ],
   "source": [
    "N2_O1_P2 = HamHuck([('N1_2', 'O2_1', 1, None), ('O2_1', 'P3_2', 1, None), ('P3_2', 'N1_2', 1, None)])\n",
    "h1 = N2_O1_P2.generate_one_body_integral(dense=True, basis='spatial basis')\n",
    "print_hamiltonian(h1)\n"
   ]
  },
  {
   "attachments": {},
   "cell_type": "markdown",
   "metadata": {},
   "source": [
    "Now, if the user wants to specify the parameters the must be given as dictionaries in the following manner:\n",
    "\n",
    "Taking for example the C_Cl_F_Si case:\n",
    "\n"
   ]
  },
  {
   "cell_type": "code",
   "execution_count": 5,
   "metadata": {},
   "outputs": [
    {
     "name": "stdout",
     "output_type": "stream",
     "text": [
      "From Rauks\n",
      "h1=\n",
      " [[-0.414 -0.033  0.    -0.04 ]\n",
      " [-0.033 -0.493 -0.027  0.   ]\n",
      " [ 0.    -0.027 -0.558 -0.009]\n",
      " [-0.04   0.    -0.009 -0.414]] \n",
      "\n",
      "\n",
      "Given parameters\n",
      "h1=\n",
      " [[-10.  -1.   0.  -4.]\n",
      " [ -1. -20.  -2.   0.]\n",
      " [  0.  -2. -30.  -3.]\n",
      " [ -4.   0.  -3. -40.]] \n",
      "\n"
     ]
    }
   ],
   "source": [
    "C_Cl_F_Si = HamHuck([('C1', 'Cl2', 1,None), ('Cl2', 'F3', 1, None),\n",
    "                    ('F3', 'Si4', 1, None), ('Si4', 'C1', 1, None)])\n",
    "h1 = C_Cl_F_Si.generate_one_body_integral(dense=True, basis='spatial basis')\n",
    "print('From Rauks')\n",
    "print_hamiltonian(h1)\n",
    "print('')\n",
    "\n",
    "atomdic = {'C':-10,'Cl':-20,'F':-30,'Si':-40}\n",
    "betadic = {'CCl':-1,'ClF':-2,'FSi':-3,'SiC':-4}\n",
    "C_Cl_F_Si = HamHuck([('C1', 'Cl2', 1,None), ('Cl2', 'F3', 1, None),\n",
    "                    ('F3', 'Si4', 1, None), ('Si4', 'C1', 1, None)], \n",
    "                    atom_dictionary=atomdic, bond_dictionary=betadic)\n",
    "h1 = C_Cl_F_Si.generate_one_body_integral(dense=True, basis='spatial basis')\n",
    "print('Given parameters')\n",
    "print_hamiltonian(h1)\n"
   ]
  },
  {
   "attachments": {},
   "cell_type": "markdown",
   "metadata": {},
   "source": [
    "Wolfsberrg-Helmholz approximation\n",
    "\n",
    "The program results for the overlap was verified by reproducing the tables presented in the paper:\n",
    "\n",
    "<img src=\"img/TableXX.png\" class=\"center\" style=\"width: 1000px;\"/>\n",
    "\n",
    "<img src=\"img/TableGen.png\" class=\"center\" style=\"width: 1000px;\"/>\n"
   ]
  },
  {
   "cell_type": "code",
   "execution_count": 6,
   "metadata": {},
   "outputs": [
    {
     "name": "stdout",
     "output_type": "stream",
     "text": [
      "h1=\n",
      " [[-0.414 -0.65   0.    -0.525]\n",
      " [-0.65  -0.477 -0.717  0.   ]\n",
      " [ 0.    -0.717 -0.64  -0.537]\n",
      " [-0.525  0.    -0.537 -0.3  ]] \n",
      "\n"
     ]
    }
   ],
   "source": [
    "from moha import HamHuck\n",
    "import sys\n",
    "import numpy as np\n",
    "sys.path.insert(0, '../')\n",
    "\n",
    "\n",
    "def print_hamiltonian(h1):\n",
    "    np.set_printoptions(precision=3)\n",
    "    print('h1=\\n', h1, '\\n')\n",
    "\n",
    "\n",
    "C_Cl_F_Si = HamHuck([('C1', 'Cl2', 1, 3), ('Cl2', 'F3', 1, 3),\n",
    "                    ('F3', 'Si4', 1, 2), ('Si4', 'C1', 1, 3)])\n",
    "h1 = C_Cl_F_Si.generate_one_body_integral(dense=True, basis='spatial basis')\n",
    "print_hamiltonian(h1)\n"
   ]
  }
 ],
 "metadata": {
  "kernelspec": {
   "display_name": "base",
   "language": "python",
   "name": "python3"
  },
  "language_info": {
   "codemirror_mode": {
    "name": "ipython",
    "version": 3
   },
   "file_extension": ".py",
   "mimetype": "text/x-python",
   "name": "python",
   "nbconvert_exporter": "python",
   "pygments_lexer": "ipython3",
   "version": "3.9.7"
  },
  "orig_nbformat": 4
 },
 "nbformat": 4,
 "nbformat_minor": 2
}
